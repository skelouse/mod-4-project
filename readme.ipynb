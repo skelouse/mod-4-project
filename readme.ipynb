{
 "cells": [
  {
   "cell_type": "markdown",
   "metadata": {
    "toc": true
   },
   "source": [
    "<h1>Table of Contents<span class=\"tocSkip\"></span></h1>\n",
    "<div class=\"toc\"><ul class=\"toc-item\"><li><span><a href=\"#Model-Selection-for-Tweet-Sentiment-Analysis\" data-toc-modified-id=\"Model-Selection-for-Tweet-Sentiment-Analysis-1\"><span class=\"toc-item-num\">1&nbsp;&nbsp;</span>Model Selection for Tweet Sentiment Analysis</a></span><ul class=\"toc-item\"><li><span><a href=\"#This-Repository-Contains\" data-toc-modified-id=\"This-Repository-Contains-1.1\"><span class=\"toc-item-num\">1.1&nbsp;&nbsp;</span>This Repository Contains</a></span></li><li><span><a href=\"#Questions\" data-toc-modified-id=\"Questions-1.2\"><span class=\"toc-item-num\">1.2&nbsp;&nbsp;</span>Questions</a></span></li><li><span><a href=\"#Using-the-OSEMN-Process\" data-toc-modified-id=\"Using-the-OSEMN-Process-1.3\"><span class=\"toc-item-num\">1.3&nbsp;&nbsp;</span>Using the OSEMN Process</a></span></li><li><span><a href=\"#Results\" data-toc-modified-id=\"Results-1.4\"><span class=\"toc-item-num\">1.4&nbsp;&nbsp;</span>Results</a></span><ul class=\"toc-item\"><li><span><a href=\"#Gradient-Boosting-Classifier\" data-toc-modified-id=\"Gradient-Boosting-Classifier-1.4.1\"><span class=\"toc-item-num\">1.4.1&nbsp;&nbsp;</span>Gradient Boosting Classifier</a></span></li><li><span><a href=\"#Stacking-Classifier\" data-toc-modified-id=\"Stacking-Classifier-1.4.2\"><span class=\"toc-item-num\">1.4.2&nbsp;&nbsp;</span>Stacking Classifier</a></span></li></ul></li><li><span><a href=\"#Recommendations\" data-toc-modified-id=\"Recommendations-1.5\"><span class=\"toc-item-num\">1.5&nbsp;&nbsp;</span>Recommendations</a></span></li><li><span><a href=\"#Next-Steps\" data-toc-modified-id=\"Next-Steps-1.6\"><span class=\"toc-item-num\">1.6&nbsp;&nbsp;</span>Next Steps</a></span></li><li><span><a href=\"#Repository-Structure\" data-toc-modified-id=\"Repository-Structure-1.7\"><span class=\"toc-item-num\">1.7&nbsp;&nbsp;</span>Repository Structure</a></span></li></ul></li></ul></div>"
   ]
  },
  {
   "cell_type": "markdown",
   "metadata": {},
   "source": [
    "# Model Selection for Tweet Sentiment Analysis"
   ]
  },
  {
   "cell_type": "markdown",
   "metadata": {},
   "source": [
    "![output_43_0.png](attachment:md/output_43_0.png)"
   ]
  },
  {
   "cell_type": "markdown",
   "metadata": {},
   "source": [
    "## This Repository Contains\n",
    " -  A Jupyter notebook <a href=\"https://github.com/skelouse/mod-4-project/blob/master/student.ipynb\">`student.ipynb`</a> showing our tweet sentiment analysis\n",
    " - The dataset <a href=\"https://github.com/skelouse/mod-3-project/blob/master/data/tweet.csv\">itself</a> Obtained from <a href=\"https://data.world/crowdflower/brands-and-product-emotions\">brands-and-product-emotions</a>\n",
    " - A PowerPoint <a href=\"https://github.com/skelouse/mod-4-project/blob/master/presentation.pdf\">presentation</a> of the data"
   ]
  },
  {
   "cell_type": "markdown",
   "metadata": {},
   "source": [
    "## Questions\n",
    "> * Which model will perform best?\n",
    "> * How well will a model perform?\n",
    "> * What can androids or iphones improve in their products to reduce negative feedback?"
   ]
  },
  {
   "cell_type": "markdown",
   "metadata": {
    "ExecuteTime": {
     "end_time": "2020-11-10T20:50:04.801920Z",
     "start_time": "2020-11-10T20:50:04.792913Z"
    }
   },
   "source": [
    "## Using the OSEMN Process\n",
    "- Obtain the data\n",
    "- Scrub the data\n",
    "- Explore the data\n",
    "- Model the data\n",
    "- Interpret the data\n",
    "- <a href=\"https://machinelearningmastery.com/how-to-work-through-a-problem-like-a-data-scientist/\">Reference</a>"
   ]
  },
  {
   "cell_type": "markdown",
   "metadata": {},
   "source": [
    "## Results\n"
   ]
  },
  {
   "cell_type": "markdown",
   "metadata": {},
   "source": [
    "### Gradient Boosting Classifier\n",
    "\n",
    "![output_75_1.png](attachment:md/output_75_1.png)\n",
    "<div class=\"shadow alert alert-info\">\n",
    "    <ul><b>From the model:</b>\n",
    "<li>Slightly overfitting the training data</li>\n",
    "<li>Odd that the True Label(1) doesn't add up to 100%</li>\n",
    "<li>The best model overall at 79% accuracy</li>\n",
    "<li>Successfully predicting 64% and 82% of Negatives and Positives respectively</li>\n",
    "</ul>\n",
    "</div>"
   ]
  },
  {
   "cell_type": "markdown",
   "metadata": {},
   "source": [
    "### Stacking Classifier\n",
    "\n",
    "![output_109_1.png](attachment:md/output_109_1.png)\n",
    "\n",
    "<div class=\"shadow alert alert-info\">\n",
    "    <ul><b>From the model:</b>\n",
    "<li>Overfitting the training data at 98%</li>\n",
    "<li>Predicting 56% and 91% of Negatives and Positives Respectively</li>\n",
    "<li>86% accuracy on the Testing data</li>\n",
    "<li>Still struggling to predict the negative emotion,  slightly better than flipping a coin in that aspect</li>\n",
    "</ul>\n",
    "</div>"
   ]
  },
  {
   "cell_type": "markdown",
   "metadata": {},
   "source": [
    "## Recommendations\n",
    "\n",
    "> * **Which model will perform best?**\n",
    ">  * Gradient Boosting for balanced recall, and stacking for the highest overall accuracy\n",
    "\n",
    "> * **How well will a model perform?**\n",
    ">  * Overall Testing accuracy\n",
    ">    * Gradient Boosting: 76%\n",
    ">    * Stacking Classifier: 86%\n",
    "\n",
    "> * **What can androids or iphones improve in their products to reduce negative feedback?**\n",
    ">  * Android\n",
    ">    * Contests\n",
    ">    * Events\n",
    ">  * Iphone\n",
    ">    * Interface\n",
    ">    * Ease of use"
   ]
  },
  {
   "cell_type": "markdown",
   "metadata": {},
   "source": [
    "## Next Steps\n",
    "> * Build an sklearn pipeline with and grid search with the tokenizer and vectorizer parameters along with the parameters for each of the classifiers.\n",
    "> * Build neural networks for the data, using [Oscar](http://oscar.calldesk.ai/) for hyperparameter tuning\n",
    "> * More tuning on the above models"
   ]
  },
  {
   "cell_type": "markdown",
   "metadata": {},
   "source": [
    "## Repository Structure"
   ]
  },
  {
   "cell_type": "markdown",
   "metadata": {
    "ExecuteTime": {
     "end_time": "2020-11-10T20:57:52.324933Z",
     "start_time": "2020-11-10T20:57:52.303937Z"
    }
   },
   "source": [
    "```\n",
    "|   data\n",
    "\\--- tweet.csv\n",
    "|\n",
    "|   images\n",
    "\\--- phone.jpg\n",
    "|\n",
    "|   presentation.pdf\n",
    "|   README.md\n",
    "|   student.ipynb\n",
    "|   readme.ipynb\n",
    "|       \n",
    "\\--- styles\n",
    "|      custom.css\n",
    "\n",
    "\\--- md\n",
    "|      student.md\n",
    "|      .png files of all graphs\n",
    "\n",
    "```"
   ]
  },
  {
   "cell_type": "code",
   "execution_count": null,
   "metadata": {},
   "outputs": [],
   "source": []
  }
 ],
 "metadata": {
  "kernelspec": {
   "display_name": "Python 3",
   "language": "python",
   "name": "python3"
  },
  "language_info": {
   "codemirror_mode": {
    "name": "ipython",
    "version": 3
   },
   "file_extension": ".py",
   "mimetype": "text/x-python",
   "name": "python",
   "nbconvert_exporter": "python",
   "pygments_lexer": "ipython3",
   "version": "3.6.9"
  },
  "toc": {
   "base_numbering": 1,
   "nav_menu": {},
   "number_sections": true,
   "sideBar": true,
   "skip_h1_title": false,
   "title_cell": "Table of Contents",
   "title_sidebar": "Contents",
   "toc_cell": true,
   "toc_position": {},
   "toc_section_display": true,
   "toc_window_display": true
  }
 },
 "nbformat": 4,
 "nbformat_minor": 4
}
